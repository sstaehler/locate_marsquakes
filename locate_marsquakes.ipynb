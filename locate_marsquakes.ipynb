{
 "cells": [
  {
   "cell_type": "code",
   "execution_count": 13,
   "metadata": {},
   "outputs": [
    {
     "data": {
      "application/vnd.jupyter.widget-view+json": {
       "model_id": "d3d2f0ce4a6d4f2cac49ce344a6f0fde",
       "version_major": 2,
       "version_minor": 0
      },
      "text/plain": [
       "interactive(children=(IntSlider(value=100, description='t_P', max=1000, min=50), IntSlider(value=200, descript…"
      ]
     },
     "metadata": {},
     "output_type": "display_data"
    },
    {
     "data": {
      "text/plain": [
       "<function __main__.plot_waveform(t_P=100, t_S=200)>"
      ]
     },
     "execution_count": 13,
     "metadata": {},
     "output_type": "execute_result"
    }
   ],
   "source": [
    "import obspy\n",
    "import matplotlib.pyplot as plt\n",
    "from matplotlib.gridspec import GridSpec\n",
    "from ipywidgets import interact, interact_manual\n",
    "from taup_distance import taup_distance\n",
    "from obspy.taup import TauPyModel\n",
    "model = TauPyModel('model_data/model4taup10.npz')\n",
    "\n",
    "st = obspy.read('event_data/S0235b/waveforms/waveforms_VBB.mseed')\n",
    "st.filter('highpass', freq=1./10)\n",
    "#st.plot()\n",
    "def plot_waveform(t_P=100, t_S=200):\n",
    "    fig = plt.figure(constrained_layout=True)\n",
    "\n",
    "    gs = GridSpec(3, 3, figure=fig)\n",
    "    ax_Z = fig.add_subplot(gs[0, 0:2])\n",
    "    ax_N = fig.add_subplot(gs[1, 0:2], sharex=ax_Z)\n",
    "    ax_E = fig.add_subplot(gs[2, 0:2], sharex=ax_Z)\n",
    "    ax_dist = fig.add_subplot(gs[0, 2])\n",
    "\n",
    "    for tr, ax in zip(st, (ax_Z, ax_N, ax_E)):\n",
    "        ax.plot(tr.times(), tr.data)\n",
    "        ax.set_xlim(100, 500)\n",
    "\n",
    "    ax_Z.axvline(t_P, c='r')\n",
    "    ax_N.axvline(t_S, c='r')\n",
    "    ax_E.axvline(t_S, c='r')\n",
    "    \n",
    "    \n",
    "    dist = taup_distance.get_dist(model=model, tSmP=t_S-t_P, depth=50)\n",
    "    ax_dist.plot(dist, t_S-t_P, 'o')\n",
    "    return ax_Z, ax_N, ax_E\n",
    "\n",
    "\n",
    "interact(plot_waveform,\n",
    "            t_P=(50, 1000),\n",
    "            t_S=(50, 1000))"
   ]
  },
  {
   "cell_type": "code",
   "execution_count": 8,
   "metadata": {},
   "outputs": [
    {
     "data": {
      "text/plain": [
       "12.952860412910145"
      ]
     },
     "execution_count": 8,
     "metadata": {},
     "output_type": "execute_result"
    }
   ],
   "source": []
  }
 ],
 "metadata": {
  "kernelspec": {
   "display_name": "Python 3 (ipykernel)",
   "language": "python",
   "name": "python3"
  },
  "language_info": {
   "codemirror_mode": {
    "name": "ipython",
    "version": 3
   },
   "file_extension": ".py",
   "mimetype": "text/x-python",
   "name": "python",
   "nbconvert_exporter": "python",
   "pygments_lexer": "ipython3",
   "version": "3.9.13"
  }
 },
 "nbformat": 4,
 "nbformat_minor": 1
}
