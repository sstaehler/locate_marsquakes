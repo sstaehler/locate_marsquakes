{
 "cells": [
  {
   "cell_type": "code",
   "execution_count": null,
   "metadata": {},
   "outputs": [],
   "source": [
    "import obspy\n",
    "import matplotlib.pyplot as plt\n",
    "import numpy as np\n",
    "from matplotlib.gridspec import GridSpec\n",
    "from ipywidgets import interact, interact_manual\n",
    "from taup_distance import taup_distance\n",
    "from obspy.taup import TauPyModel\n",
    "model = TauPyModel('model_data/model4taup10.npz')\n",
    "\n",
    "st = obspy.read('event_data/S0235b/waveforms/waveforms_VBB.mseed')\n",
    "st.filter('highpass', freq=1./10)\n",
    "\n",
    "TT = np.load('helpers/traveltimes.npz')\n",
    "#st.plot()"
   ]
  },
  {
   "cell_type": "code",
   "execution_count": null,
   "metadata": {},
   "outputs": [],
   "source": [
    "def plot_waveform(t_P=100, t_S=200):\n",
    "    fig = plt.figure(constrained_layout=True)\n",
    "\n",
    "    gs = GridSpec(3, 3, figure=fig)\n",
    "    ax_Z = fig.add_subplot(gs[0, 0:2])\n",
    "    ax_N = fig.add_subplot(gs[1, 0:2], sharex=ax_Z)\n",
    "    ax_E = fig.add_subplot(gs[2, 0:2], sharex=ax_Z)\n",
    "    ax_dist = fig.add_subplot(gs[0, 2])\n",
    "\n",
    "    for tr, ax in zip(st, (ax_Z, ax_N, ax_E)):\n",
    "        ax.plot(tr.times(), tr.data)\n",
    "        ax.set_xlim(100, 500)\n",
    "\n",
    "    ax_Z.axvline(t_P, c='r')\n",
    "    ax_N.axvline(t_S, c='r')\n",
    "    ax_E.axvline(t_S, c='r')\n",
    "    \n",
    "    \n",
    "    dist = taup_distance.get_dist(model=model, tSmP=t_S-t_P, depth=50)\n",
    "    \n",
    "    if dist is not None:\n",
    "        t_P_theo = model.get_travel_times(distance_in_degree=dist, \n",
    "                                          source_depth_in_km=50, \n",
    "                                          phase_list=['P'])[0].time\n",
    "        t_S_theo = model.get_travel_times(distance_in_degree=dist, \n",
    "                                          source_depth_in_km=50, \n",
    "                                          phase_list=['S'])[0].time\n",
    "\n",
    "        for phase in ['P', 'S', 'PP', 'SS', 'ScS']:\n",
    "            t = np.asarray(TT[phase])\n",
    "            ax_dist.plot(t[:,0], t[:,1], label=phase)\n",
    "        ax_dist.plot(dist, t_S_theo, 'o')\n",
    "        ax_dist.plot(dist, t_P_theo, 'o')\n",
    "        ax_dist.plot([dist, dist], [t_P_theo, t_S_theo], 'k')\n",
    "    return ax_Z, ax_N, ax_E\n",
    "\n",
    "\n",
    "interact(plot_waveform,\n",
    "            t_P=(50, 1000),\n",
    "            t_S=(50, 1000))"
   ]
  }
 ],
 "metadata": {
  "kernelspec": {
   "display_name": "Python 3 (ipykernel)",
   "language": "python",
   "name": "python3"
  },
  "language_info": {
   "codemirror_mode": {
    "name": "ipython",
    "version": 3
   },
   "file_extension": ".py",
   "mimetype": "text/x-python",
   "name": "python",
   "nbconvert_exporter": "python",
   "pygments_lexer": "ipython3",
   "version": "3.9.13"
  }
 },
 "nbformat": 4,
 "nbformat_minor": 1
}
